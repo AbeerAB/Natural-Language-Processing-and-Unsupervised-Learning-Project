{
 "cells": [
  {
   "cell_type": "code",
   "execution_count": 7,
   "id": "df087a4a",
   "metadata": {},
   "outputs": [],
   "source": []
  },
  {
   "cell_type": "markdown",
   "id": "22ecbdfa",
   "metadata": {},
   "source": [
    "# BaseLine"
   ]
  },
  {
   "cell_type": "code",
   "execution_count": 27,
   "id": "ea964361",
   "metadata": {},
   "outputs": [],
   "source": [
    "from sklearn.feature_extraction.text import CountVectorizer \n",
    "from sklearn.decomposition import TruncatedSVD\n",
    "from sklearn.decomposition import NMF\n",
    "from sklearn.metrics.pairwise import cosine_similarity\n",
    "import re\n",
    "import string"
   ]
  },
  {
   "cell_type": "code",
   "execution_count": 28,
   "id": "780f02ba",
   "metadata": {},
   "outputs": [],
   "source": [
    "articals_df = pd.read_csv('out.csv')"
   ]
  },
  {
   "cell_type": "code",
   "execution_count": 30,
   "id": "17399e75",
   "metadata": {},
   "outputs": [
    {
     "data": {
      "text/html": [
       "<div>\n",
       "<style scoped>\n",
       "    .dataframe tbody tr th:only-of-type {\n",
       "        vertical-align: middle;\n",
       "    }\n",
       "\n",
       "    .dataframe tbody tr th {\n",
       "        vertical-align: top;\n",
       "    }\n",
       "\n",
       "    .dataframe thead th {\n",
       "        text-align: right;\n",
       "    }\n",
       "</style>\n",
       "<table border=\"1\" class=\"dataframe\">\n",
       "  <thead>\n",
       "    <tr style=\"text-align: right;\">\n",
       "      <th></th>\n",
       "      <th>Unnamed: 0</th>\n",
       "      <th>index</th>\n",
       "      <th>title</th>\n",
       "      <th>introductions</th>\n",
       "    </tr>\n",
       "  </thead>\n",
       "  <tbody>\n",
       "    <tr>\n",
       "      <th>285581</th>\n",
       "      <td>285581</td>\n",
       "      <td>285582</td>\n",
       "      <td>زيت جوز الهند</td>\n",
       "      <td>يعتبر زيت جوز الهند من أفضل الزيوت المستخدمة ل...</td>\n",
       "    </tr>\n",
       "    <tr>\n",
       "      <th>161313</th>\n",
       "      <td>161313</td>\n",
       "      <td>161314</td>\n",
       "      <td>ممارسة التمارين الرياضية</td>\n",
       "      <td>يمكن أن يجدول الشخص تمارين القوة ثلاث مرات أسب...</td>\n",
       "    </tr>\n",
       "  </tbody>\n",
       "</table>\n",
       "</div>"
      ],
      "text/plain": [
       "        Unnamed: 0   index                     title  \\\n",
       "285581      285581  285582             زيت جوز الهند   \n",
       "161313      161313  161314  ممارسة التمارين الرياضية   \n",
       "\n",
       "                                            introductions  \n",
       "285581  يعتبر زيت جوز الهند من أفضل الزيوت المستخدمة ل...  \n",
       "161313  يمكن أن يجدول الشخص تمارين القوة ثلاث مرات أسب...  "
      ]
     },
     "execution_count": 30,
     "metadata": {},
     "output_type": "execute_result"
    }
   ],
   "source": [
    "sample_df = articals_df.sample(1050, replace = False, random_state=50) \n",
    "sample_df.head(2)"
   ]
  },
  {
   "cell_type": "code",
   "execution_count": 31,
   "id": "13bc4f48",
   "metadata": {},
   "outputs": [
    {
     "data": {
      "text/plain": [
       "(1050, 17548)"
      ]
     },
     "execution_count": 31,
     "metadata": {},
     "output_type": "execute_result"
    }
   ],
   "source": [
    "artical = sample_df.introductions\n",
    "vectorizer = CountVectorizer()\n",
    "doc_word = vectorizer.fit_transform(artical)\n",
    "doc_word.shape"
   ]
  },
  {
   "cell_type": "code",
   "execution_count": 32,
   "id": "3d46bc1d",
   "metadata": {},
   "outputs": [
    {
     "data": {
      "text/html": [
       "<div>\n",
       "<style scoped>\n",
       "    .dataframe tbody tr th:only-of-type {\n",
       "        vertical-align: middle;\n",
       "    }\n",
       "\n",
       "    .dataframe tbody tr th {\n",
       "        vertical-align: top;\n",
       "    }\n",
       "\n",
       "    .dataframe thead th {\n",
       "        text-align: right;\n",
       "    }\n",
       "</style>\n",
       "<table border=\"1\" class=\"dataframe\">\n",
       "  <thead>\n",
       "    <tr style=\"text-align: right;\">\n",
       "      <th></th>\n",
       "      <th>000</th>\n",
       "      <th>00000000freemem</th>\n",
       "      <th>018</th>\n",
       "      <th>026</th>\n",
       "      <th>03</th>\n",
       "      <th>04</th>\n",
       "      <th>046</th>\n",
       "      <th>048562</th>\n",
       "      <th>06475</th>\n",
       "      <th>09</th>\n",
       "      <th>...</th>\n",
       "      <th>يوميا</th>\n",
       "      <th>يومين</th>\n",
       "      <th>يوناني</th>\n",
       "      <th>يونانية</th>\n",
       "      <th>يونيو</th>\n",
       "      <th>يوهيه</th>\n",
       "      <th>١١٠</th>\n",
       "      <th>١٦</th>\n",
       "      <th>١٧٨</th>\n",
       "      <th>٥٠</th>\n",
       "    </tr>\n",
       "    <tr>\n",
       "      <th>introductions</th>\n",
       "      <th></th>\n",
       "      <th></th>\n",
       "      <th></th>\n",
       "      <th></th>\n",
       "      <th></th>\n",
       "      <th></th>\n",
       "      <th></th>\n",
       "      <th></th>\n",
       "      <th></th>\n",
       "      <th></th>\n",
       "      <th></th>\n",
       "      <th></th>\n",
       "      <th></th>\n",
       "      <th></th>\n",
       "      <th></th>\n",
       "      <th></th>\n",
       "      <th></th>\n",
       "      <th></th>\n",
       "      <th></th>\n",
       "      <th></th>\n",
       "      <th></th>\n",
       "    </tr>\n",
       "  </thead>\n",
       "  <tbody>\n",
       "    <tr>\n",
       "      <th>يعتبر زيت جوز الهند من أفضل الزيوت المستخدمة للتخلص من تشققات اليدين و خشونتهما ، و يتم ذلك من خلال دهن يديك بزيت جوز الهند مع التدليك ، و يفضل القيام بذلك قبل الذهاب إلى النوم ، ليبقى الزيت لساعات أطول و كذلك لأن التعرض لأشعة الشمس أثناء وضع الزيت سيعمل على اسمرارهما بسرعة .</th>\n",
       "      <td>0</td>\n",
       "      <td>0</td>\n",
       "      <td>0</td>\n",
       "      <td>0</td>\n",
       "      <td>0</td>\n",
       "      <td>0</td>\n",
       "      <td>0</td>\n",
       "      <td>0</td>\n",
       "      <td>0</td>\n",
       "      <td>0</td>\n",
       "      <td>...</td>\n",
       "      <td>0</td>\n",
       "      <td>0</td>\n",
       "      <td>0</td>\n",
       "      <td>0</td>\n",
       "      <td>0</td>\n",
       "      <td>0</td>\n",
       "      <td>0</td>\n",
       "      <td>0</td>\n",
       "      <td>0</td>\n",
       "      <td>0</td>\n",
       "    </tr>\n",
       "    <tr>\n",
       "      <th>يمكن أن يجدول الشخص تمارين القوة ثلاث مرات أسبوعيا ، بحيث تصل مدة التمرين الواحد إلى ساعة ، وترك يوم أو يومين من الراحة بين جلسات التمرين ، مما يسمح للعضلات بالحصول على الوقت الكافي للتعافي ، و التقليل من الأخطار الناجمة عن الإفراط في التدريب ، و التي يمكن أن تعيق التقدم في التدريب ، و يجب على الشخص التأكد من التركيز على تكثيف التمرين بدلا من المماطلة فيه ، كما يجب عليه أخذ فترة راحة بين التمارين لمدة تقل عن الدقيقة ، و محاولة الحد من الأحاديث الجانبية الصغيرة مع أعضاء الصالة الرياضية الآخرين .</th>\n",
       "      <td>0</td>\n",
       "      <td>0</td>\n",
       "      <td>0</td>\n",
       "      <td>0</td>\n",
       "      <td>0</td>\n",
       "      <td>0</td>\n",
       "      <td>0</td>\n",
       "      <td>0</td>\n",
       "      <td>0</td>\n",
       "      <td>0</td>\n",
       "      <td>...</td>\n",
       "      <td>0</td>\n",
       "      <td>1</td>\n",
       "      <td>0</td>\n",
       "      <td>0</td>\n",
       "      <td>0</td>\n",
       "      <td>0</td>\n",
       "      <td>0</td>\n",
       "      <td>0</td>\n",
       "      <td>0</td>\n",
       "      <td>0</td>\n",
       "    </tr>\n",
       "  </tbody>\n",
       "</table>\n",
       "<p>2 rows × 17548 columns</p>\n",
       "</div>"
      ],
      "text/plain": [
       "                                                    000  00000000freemem  018  \\\n",
       "introductions                                                                   \n",
       "يعتبر زيت جوز الهند من أفضل الزيوت المستخدمة لل...    0                0    0   \n",
       "يمكن أن يجدول الشخص تمارين القوة ثلاث مرات أسبو...    0                0    0   \n",
       "\n",
       "                                                    026  03  04  046  048562  \\\n",
       "introductions                                                                  \n",
       "يعتبر زيت جوز الهند من أفضل الزيوت المستخدمة لل...    0   0   0    0       0   \n",
       "يمكن أن يجدول الشخص تمارين القوة ثلاث مرات أسبو...    0   0   0    0       0   \n",
       "\n",
       "                                                    06475  09  ...  يوميا  \\\n",
       "introductions                                                  ...          \n",
       "يعتبر زيت جوز الهند من أفضل الزيوت المستخدمة لل...      0   0  ...      0   \n",
       "يمكن أن يجدول الشخص تمارين القوة ثلاث مرات أسبو...      0   0  ...      0   \n",
       "\n",
       "                                                    يومين  يوناني  يونانية  \\\n",
       "introductions                                                                \n",
       "يعتبر زيت جوز الهند من أفضل الزيوت المستخدمة لل...      0       0        0   \n",
       "يمكن أن يجدول الشخص تمارين القوة ثلاث مرات أسبو...      1       0        0   \n",
       "\n",
       "                                                    يونيو  يوهيه  ١١٠  ١٦  \\\n",
       "introductions                                                               \n",
       "يعتبر زيت جوز الهند من أفضل الزيوت المستخدمة لل...      0      0    0   0   \n",
       "يمكن أن يجدول الشخص تمارين القوة ثلاث مرات أسبو...      0      0    0   0   \n",
       "\n",
       "                                                    ١٧٨  ٥٠  \n",
       "introductions                                                \n",
       "يعتبر زيت جوز الهند من أفضل الزيوت المستخدمة لل...    0   0  \n",
       "يمكن أن يجدول الشخص تمارين القوة ثلاث مرات أسبو...    0   0  \n",
       "\n",
       "[2 rows x 17548 columns]"
      ]
     },
     "execution_count": 32,
     "metadata": {},
     "output_type": "execute_result"
    }
   ],
   "source": [
    "pd.DataFrame(doc_word.toarray(), index=artical, columns=vectorizer.get_feature_names()).head(2)"
   ]
  },
  {
   "cell_type": "code",
   "execution_count": 33,
   "id": "75515af5",
   "metadata": {},
   "outputs": [
    {
     "data": {
      "text/plain": [
       "array([0.08120661, 0.04613439, 0.03320134, 0.01997597, 0.01353928,\n",
       "       0.01077354, 0.01008837, 0.00951145])"
      ]
     },
     "execution_count": 33,
     "metadata": {},
     "output_type": "execute_result"
    }
   ],
   "source": [
    "lsa = TruncatedSVD(8)\n",
    "doc_topic = lsa.fit_transform(doc_word)\n",
    "lsa.explained_variance_ratio_"
   ]
  },
  {
   "cell_type": "code",
   "execution_count": 35,
   "id": "37349cde",
   "metadata": {},
   "outputs": [
    {
     "data": {
      "text/html": [
       "<div>\n",
       "<style scoped>\n",
       "    .dataframe tbody tr th:only-of-type {\n",
       "        vertical-align: middle;\n",
       "    }\n",
       "\n",
       "    .dataframe tbody tr th {\n",
       "        vertical-align: top;\n",
       "    }\n",
       "\n",
       "    .dataframe thead th {\n",
       "        text-align: right;\n",
       "    }\n",
       "</style>\n",
       "<table border=\"1\" class=\"dataframe\">\n",
       "  <thead>\n",
       "    <tr style=\"text-align: right;\">\n",
       "      <th></th>\n",
       "      <th>000</th>\n",
       "      <th>00000000freemem</th>\n",
       "      <th>018</th>\n",
       "      <th>026</th>\n",
       "      <th>03</th>\n",
       "      <th>04</th>\n",
       "      <th>046</th>\n",
       "      <th>048562</th>\n",
       "      <th>06475</th>\n",
       "      <th>09</th>\n",
       "      <th>...</th>\n",
       "      <th>يوميا</th>\n",
       "      <th>يومين</th>\n",
       "      <th>يوناني</th>\n",
       "      <th>يونانية</th>\n",
       "      <th>يونيو</th>\n",
       "      <th>يوهيه</th>\n",
       "      <th>١١٠</th>\n",
       "      <th>١٦</th>\n",
       "      <th>١٧٨</th>\n",
       "      <th>٥٠</th>\n",
       "    </tr>\n",
       "  </thead>\n",
       "  <tbody>\n",
       "    <tr>\n",
       "      <th>topic_1</th>\n",
       "      <td>0.0</td>\n",
       "      <td>0.0</td>\n",
       "      <td>0.0</td>\n",
       "      <td>0.0</td>\n",
       "      <td>0.0</td>\n",
       "      <td>0.0</td>\n",
       "      <td>0.0</td>\n",
       "      <td>0.0</td>\n",
       "      <td>0.0</td>\n",
       "      <td>0.0</td>\n",
       "      <td>...</td>\n",
       "      <td>0.006</td>\n",
       "      <td>0.0</td>\n",
       "      <td>0.0</td>\n",
       "      <td>0.0</td>\n",
       "      <td>0.001</td>\n",
       "      <td>0.000</td>\n",
       "      <td>0.0</td>\n",
       "      <td>0.000</td>\n",
       "      <td>0.000</td>\n",
       "      <td>0.0</td>\n",
       "    </tr>\n",
       "    <tr>\n",
       "      <th>topic_2</th>\n",
       "      <td>-0.0</td>\n",
       "      <td>-0.0</td>\n",
       "      <td>-0.0</td>\n",
       "      <td>-0.0</td>\n",
       "      <td>-0.0</td>\n",
       "      <td>-0.0</td>\n",
       "      <td>-0.0</td>\n",
       "      <td>-0.0</td>\n",
       "      <td>-0.0</td>\n",
       "      <td>-0.0</td>\n",
       "      <td>...</td>\n",
       "      <td>-0.008</td>\n",
       "      <td>-0.0</td>\n",
       "      <td>-0.0</td>\n",
       "      <td>-0.0</td>\n",
       "      <td>-0.001</td>\n",
       "      <td>0.001</td>\n",
       "      <td>-0.0</td>\n",
       "      <td>-0.001</td>\n",
       "      <td>-0.001</td>\n",
       "      <td>-0.0</td>\n",
       "    </tr>\n",
       "  </tbody>\n",
       "</table>\n",
       "<p>2 rows × 17548 columns</p>\n",
       "</div>"
      ],
      "text/plain": [
       "         000  00000000freemem  018  026   03   04  046  048562  06475   09  \\\n",
       "topic_1  0.0              0.0  0.0  0.0  0.0  0.0  0.0     0.0    0.0  0.0   \n",
       "topic_2 -0.0             -0.0 -0.0 -0.0 -0.0 -0.0 -0.0    -0.0   -0.0 -0.0   \n",
       "\n",
       "         ...  يوميا  يومين  يوناني  يونانية  يونيو  يوهيه  ١١٠     ١٦    ١٧٨  \\\n",
       "topic_1  ...  0.006    0.0     0.0      0.0  0.001  0.000  0.0  0.000  0.000   \n",
       "topic_2  ... -0.008   -0.0    -0.0     -0.0 -0.001  0.001 -0.0 -0.001 -0.001   \n",
       "\n",
       "          ٥٠  \n",
       "topic_1  0.0  \n",
       "topic_2 -0.0  \n",
       "\n",
       "[2 rows x 17548 columns]"
      ]
     },
     "execution_count": 35,
     "metadata": {},
     "output_type": "execute_result"
    }
   ],
   "source": [
    "topic_word = pd.DataFrame(lsa.components_.round(3),\n",
    "             index = [\"topic_1\",\"topic_2\",\"topic_3\",\"topic_4\",\"topic_5\",\"topic_6\",\"topic_7\",\"topic_8\"],\n",
    "             columns = vectorizer.get_feature_names())\n",
    "topic_word.head(2)"
   ]
  },
  {
   "cell_type": "code",
   "execution_count": 36,
   "id": "d3dca208",
   "metadata": {},
   "outputs": [],
   "source": [
    "def display_topics(model, feature_names, no_top_words, topic_names=None):\n",
    "    for ix, topic in enumerate(model.components_):\n",
    "        if not topic_names or not topic_names[ix]:\n",
    "            print(\"\\nTopic \", ix+1)\n",
    "        else:\n",
    "            print(\"\\nTopic: '\",topic_names[ix],\"'\")\n",
    "        print(\", \".join([feature_names[i]\n",
    "                        for i in topic.argsort()[:-no_top_words - 1:-1]]))"
   ]
  },
  {
   "cell_type": "code",
   "execution_count": 37,
   "id": "9d401059",
   "metadata": {},
   "outputs": [
    {
     "name": "stdout",
     "output_type": "stream",
     "text": [
      "\n",
      "Topic  1\n",
      "من, في, على, إلى, أن, التي, الله, عن, أو, عليه\n",
      "\n",
      "Topic  2\n",
      "الله, عليه, صلى, سلم, قال, تعالى, رسول, في, النبي, كان\n",
      "\n",
      "Topic  3\n",
      "في, إلى, أن, عام, ذلك, هذا, بعد, قد, مدينة, العالم\n",
      "\n",
      "Topic  4\n",
      "على, أن, إلى, الشعر, أو, التي, يمكن, يجب, مع, لا\n",
      "\n",
      "Topic  5\n",
      "أن, إلى, أو, الحمل, عن, الصلاة, ما, خلال, بعد, لا\n",
      "\n",
      "Topic  6\n",
      "إلى, على, حيث, مدينة, عليه, المدينة, ثم, فيها, عام, السلام\n",
      "\n",
      "Topic  7\n",
      "التي, عن, هذه, هي, الله, إلى, تعالى, ما, فيها, بعض\n",
      "\n",
      "Topic  8\n",
      "أو, إلى, سلم, يمكن, صلى, عليه, الشعر, ثم, عن, الحمل\n"
     ]
    }
   ],
   "source": [
    "display_topics(lsa, vectorizer.get_feature_names(), 10)  "
   ]
  },
  {
   "cell_type": "markdown",
   "id": "b8a96434",
   "metadata": {},
   "source": [
    "# Clean Data"
   ]
  },
  {
   "cell_type": "code",
   "execution_count": null,
   "id": "3d8d3863",
   "metadata": {},
   "outputs": [],
   "source": [
    "import pandas as pd\n",
    "import re\n",
    "import string\n",
    "import sys\n",
    "import argparse\n",
    "import nltk\n",
    "from nltk.corpus import stopwords\n",
    "sw_nltk = stopwords.words('arabic')"
   ]
  },
  {
   "cell_type": "code",
   "execution_count": 3,
   "id": "58990c73",
   "metadata": {},
   "outputs": [],
   "source": [
    "articals_df = pd.read_csv('out.csv')"
   ]
  },
  {
   "cell_type": "code",
   "execution_count": 4,
   "id": "d545ebf5",
   "metadata": {},
   "outputs": [],
   "source": [
    "articals_df= articals_df.drop(['Unnamed: 0'], axis=1)"
   ]
  },
  {
   "cell_type": "code",
   "execution_count": 5,
   "id": "d579f066",
   "metadata": {},
   "outputs": [],
   "source": [
    "articals_df['artical'] = articals_df['title']+\" \"+articals_df['introductions'] #artical= title + introductions"
   ]
  },
  {
   "cell_type": "code",
   "execution_count": 6,
   "id": "adbaffac",
   "metadata": {},
   "outputs": [],
   "source": [
    "articals = articals_df['artical']\n",
    "articals_dataframe = pd.DataFrame(articals)"
   ]
  },
  {
   "cell_type": "code",
   "execution_count": 19,
   "id": "f65ec288",
   "metadata": {},
   "outputs": [
    {
     "data": {
      "text/plain": [
       "'\\nfrom nltk import word_tokenize\\nfrom snowballstemmer import stemmer\\nar_stemmer = stemmer(\"arabic\")\\nword_list = str(articals_dataframe.content)\\nwordsfilter=[]\\n# Define a function\\n\\ndef filterr(word_list):\\n    for a in word_tokenize(word_list):\\n        stem = ar_stemmer.stemWord(a)\\n        wordsfilter.append(stem)\\n    return wordsfilter\\n    \\n'"
      ]
     },
     "execution_count": 19,
     "metadata": {},
     "output_type": "execute_result"
    }
   ],
   "source": [
    "# علامات الترقيم العربية\n",
    "arabic_punctuations = '''`÷×؛<>_()*&^%][ـ،/:\"؟.,'{}~¦+|!”…“–ـ'''\n",
    "english_punctuations = string.punctuation\n",
    "punctuations_list = arabic_punctuations + english_punctuations\n",
    "\n",
    "\n",
    "# تشيل الحركات العربية الضمة ، الفتحة ، التنوين ....\n",
    "arabic_diacritics = re.compile(\"\"\"\n",
    "                             ّ    | # Tashdid\n",
    "                             َ    | # Fatha\n",
    "                             ً    | # Tanwin Fath\n",
    "                             ُ    | # Damma\n",
    "                             ٌ    | # Tanwin Damm\n",
    "                             ِ    | # Kasra\n",
    "                             ٍ    | # Tanwin Kasr\n",
    "                             ْ    | # Sukun\n",
    "                             ـ     # Tatwil/Kashida\n",
    "                         \"\"\", re.VERBOSE)\n",
    "\n",
    "# نوحد الحروف \n",
    "def normalize_arabic(text):\n",
    "    text = re.sub(\"[إأآا]\", \"ا\", text)\n",
    "    text = re.sub(\"ى\", \"ي\", text)\n",
    "    text = re.sub(\"ؤ\", \"ء\", text)\n",
    "    text = re.sub(\"ئ\", \"ء\", text)\n",
    "    text = re.sub(\"ة\", \"ه\", text)\n",
    "    text = re.sub(\"گ\", \"ك\", text)\n",
    "    return text\n",
    "\n",
    "def remove_arabic_numbers(text):\n",
    "    text = text.replace(\"٠\", \"\")\n",
    "    text = text.replace(\"١\", \"\")\n",
    "    text = text.replace(\"٢\", \"\")\n",
    "    text = text.replace(\"٣\", \"\")\n",
    "    text = text.replace(\"٤\", \"\")\n",
    "    text = text.replace(\"٥\", \"\")\n",
    "    text = text.replace(\"٦\", \"\")\n",
    "    text = text.replace(\"٧\", \"\")\n",
    "    text = text.replace(\"٨\", \"\")\n",
    "    text = text.replace(\"٩\", \"\")\n",
    "    return text\n",
    "\n",
    "def remove_diacritics(text): # تشيل التشكيل-الحركات\n",
    "    text = re.sub(arabic_diacritics, '', text)\n",
    "    return text\n",
    "\n",
    "def remove_punctuations(text):\n",
    "    translator = str.maketrans('', '', punctuations_list)\n",
    "    return text.translate(translator)\n",
    "\n",
    "def remove_repeating_char(text):\n",
    "    return re.sub(r'(.)\\1+', r'\\1', text)\n",
    "\n",
    "parser = argparse.ArgumentParser(description='Pre-process arabic text (remove '\n",
    "                                             'diacritics, punctuations, and repeating '\n",
    "                                             'characters).')\n",
    "def remove_arabic_stopword(text):\n",
    "    words = [word for word in text.split() if word.lower() not in sw_nltk] ####### بدون شرط الاف\n",
    "    new_text = \" \".join(words)\n",
    "    return new_text\n",
    "\n",
    "def removeNonArabicChar(text):\n",
    "    return re.sub(r'[^0-9\\u0600-\\u06ff\\u0750-\\u077f\\ufb50-\\ufbc1\\ufbd3-\\ufd3f\\ufd50-\\ufd8f\\ufd50-\\ufd8f\\ufe70-\\ufefc\\uFDF0-\\uFDFD.0-9]+', ' ', text)\n",
    "\n",
    "\n",
    "def removeUnnecessarySpaces(text):\n",
    "    return re.sub(r'[\\n\\t\\ ]+', ' ', text)\n",
    "\n",
    "\n",
    "def sentTokenize(text):\n",
    "    return text.replace(\".\", \". \\n- \")\n",
    "\n",
    "def remove_repeating_char(text):\n",
    "    return re.sub(r'(.)\\1+', r'\\1', text)\n",
    "\n",
    "def normalize_arabic(text):\n",
    "    text = re.sub(\"[إأآا]\", \"ا\", text)\n",
    "    text = re.sub(\"ى\", \"ي\", text)\n",
    "    text = re.sub(\"ؤ\", \"ء\", text)\n",
    "    text = re.sub(\"ئ\", \"ء\", text)\n",
    "    text = re.sub(\"ة\", \"ه\", text)\n",
    "    text = re.sub(\"گ\", \"ك\", text)\n",
    "    return text\n",
    "\n",
    "#-------------------------------- جذر الكلمة\n",
    "from nltk import word_tokenize\n",
    "from snowballstemmer import stemmer\n",
    "ar_stemmer = stemmer(\"arabic\")\n",
    "\n",
    "def stem(text):\n",
    "    stem = ar_stemmer.stemWord(text)\n",
    "    return stem\n"
   ]
  },
  {
   "cell_type": "code",
   "execution_count": 20,
   "id": "ad35d77b",
   "metadata": {},
   "outputs": [],
   "source": [
    "articals_dataframe.artical = articals_dataframe.artical.apply(lambda x: stem(x))"
   ]
  },
  {
   "cell_type": "code",
   "execution_count": 11,
   "id": "00e6b84c",
   "metadata": {},
   "outputs": [],
   "source": [
    "articals_dataframe.artical = articals_dataframe.artical.apply(lambda x: removeNonArabicChar(x))\n",
    "articals_dataframe.artical = articals_dataframe.artical.apply(lambda x: removeUnnecessarySpaces(x))\n",
    "articals_dataframe.artical = articals_dataframe.artical.apply(lambda x: sentTokenize(x))\n",
    "articals_dataframe.artical = articals_dataframe.artical.apply(lambda x: remove_repeating_char(x))\n",
    "articals_dataframe.artical = articals_dataframe.artical.apply(lambda x: normalize_arabic(x))\n",
    "articals_dataframe.artical = articals_dataframe.artical.apply(lambda x: remove_arabic_numbers(x))\n",
    "articals_dataframe.artical = articals_dataframe.artical.apply(lambda x: remove_punctuations(x))\n",
    "articals_dataframe.artical = articals_dataframe.artical.apply(lambda x: remove_diacritics(x))\n",
    "articals_dataframe.artical = articals_dataframe.artical.apply(lambda x: remove_arabic_stopword(x))"
   ]
  },
  {
   "cell_type": "code",
   "execution_count": 21,
   "id": "ead3087c",
   "metadata": {},
   "outputs": [
    {
     "data": {
      "text/html": [
       "<div>\n",
       "<style scoped>\n",
       "    .dataframe tbody tr th:only-of-type {\n",
       "        vertical-align: middle;\n",
       "    }\n",
       "\n",
       "    .dataframe tbody tr th {\n",
       "        vertical-align: top;\n",
       "    }\n",
       "\n",
       "    .dataframe thead th {\n",
       "        text-align: right;\n",
       "    }\n",
       "</style>\n",
       "<table border=\"1\" class=\"dataframe\">\n",
       "  <thead>\n",
       "    <tr style=\"text-align: right;\">\n",
       "      <th></th>\n",
       "      <th>artical</th>\n",
       "    </tr>\n",
       "  </thead>\n",
       "  <tbody>\n",
       "    <tr>\n",
       "      <th>0</th>\n",
       "      <td>متحف العربي لفن الحديث يعتبر متحف جديد العهد ي...</td>\n",
       "    </tr>\n",
       "    <tr>\n",
       "      <th>1</th>\n",
       "      <td>يلاجيو مول يعتبر فيلاجيو مول اهم المجمعات التج...</td>\n",
       "    </tr>\n",
       "    <tr>\n",
       "      <th>2</th>\n",
       "      <td>كورنيش الدوحه المنطقه البحريه المتده علي مجموع...</td>\n",
       "    </tr>\n",
       "    <tr>\n",
       "      <th>3</th>\n",
       "      <td>منتجع شاطء سيلين يعتبر المنتجع اجمل الاماكن ال...</td>\n",
       "    </tr>\n",
       "    <tr>\n",
       "      <th>4</th>\n",
       "      <td>منتجع الغاريه منتجع مطل علي البحر يحوي العديد ...</td>\n",
       "    </tr>\n",
       "    <tr>\n",
       "      <th>...</th>\n",
       "      <td>...</td>\n",
       "    </tr>\n",
       "    <tr>\n",
       "      <th>294833</th>\n",
       "      <td>تقشير القدمين يمكن ان يساعد استخدام حجر الفرك ...</td>\n",
       "    </tr>\n",
       "    <tr>\n",
       "      <th>294834</th>\n",
       "      <td>منقوع الملح تعد السواءل مفيده استخدامها كجزء ر...</td>\n",
       "    </tr>\n",
       "    <tr>\n",
       "      <th>294835</th>\n",
       "      <td>محافظه سلفيت احدي محافظات السلطه الفلسطينيه كن...</td>\n",
       "    </tr>\n",
       "    <tr>\n",
       "      <th>294836</th>\n",
       "      <td>اصل التسميه اختلفت الاراء تعدت حول سب تسميتها ...</td>\n",
       "    </tr>\n",
       "    <tr>\n",
       "      <th>294837</th>\n",
       "      <td>سكان النشاط الاقتصادي يبلغ عد سكان المحافظه يق...</td>\n",
       "    </tr>\n",
       "  </tbody>\n",
       "</table>\n",
       "<p>294838 rows × 1 columns</p>\n",
       "</div>"
      ],
      "text/plain": [
       "                                                  artical\n",
       "0       متحف العربي لفن الحديث يعتبر متحف جديد العهد ي...\n",
       "1       يلاجيو مول يعتبر فيلاجيو مول اهم المجمعات التج...\n",
       "2       كورنيش الدوحه المنطقه البحريه المتده علي مجموع...\n",
       "3       منتجع شاطء سيلين يعتبر المنتجع اجمل الاماكن ال...\n",
       "4       منتجع الغاريه منتجع مطل علي البحر يحوي العديد ...\n",
       "...                                                   ...\n",
       "294833  تقشير القدمين يمكن ان يساعد استخدام حجر الفرك ...\n",
       "294834  منقوع الملح تعد السواءل مفيده استخدامها كجزء ر...\n",
       "294835  محافظه سلفيت احدي محافظات السلطه الفلسطينيه كن...\n",
       "294836  اصل التسميه اختلفت الاراء تعدت حول سب تسميتها ...\n",
       "294837  سكان النشاط الاقتصادي يبلغ عد سكان المحافظه يق...\n",
       "\n",
       "[294838 rows x 1 columns]"
      ]
     },
     "execution_count": 21,
     "metadata": {},
     "output_type": "execute_result"
    }
   ],
   "source": [
    "articals_dataframe"
   ]
  },
  {
   "cell_type": "code",
   "execution_count": 22,
   "id": "43fd7e07",
   "metadata": {},
   "outputs": [],
   "source": [
    "articals_dataframe.to_csv('/Users/abeer/Downloads/Natural-Language-Processing-and-Unsupervised-Learning-Project/cleandArticals.csv',index=False)"
   ]
  },
  {
   "cell_type": "code",
   "execution_count": 23,
   "id": "19cfd691",
   "metadata": {},
   "outputs": [],
   "source": [
    "import pandas as pd\n",
    "import re\n",
    "import nltk\n",
    "import string\n",
    "import sys\n",
    "import argparse\n"
   ]
  },
  {
   "cell_type": "code",
   "execution_count": 25,
   "id": "1d2120da",
   "metadata": {},
   "outputs": [],
   "source": [
    "cleand_df = pd.read_csv('cleandArticals.csv')"
   ]
  },
  {
   "cell_type": "code",
   "execution_count": 38,
   "id": "7be6918a",
   "metadata": {},
   "outputs": [
    {
     "data": {
      "text/html": [
       "<div>\n",
       "<style scoped>\n",
       "    .dataframe tbody tr th:only-of-type {\n",
       "        vertical-align: middle;\n",
       "    }\n",
       "\n",
       "    .dataframe tbody tr th {\n",
       "        vertical-align: top;\n",
       "    }\n",
       "\n",
       "    .dataframe thead th {\n",
       "        text-align: right;\n",
       "    }\n",
       "</style>\n",
       "<table border=\"1\" class=\"dataframe\">\n",
       "  <thead>\n",
       "    <tr style=\"text-align: right;\">\n",
       "      <th></th>\n",
       "      <th>artical</th>\n",
       "    </tr>\n",
       "  </thead>\n",
       "  <tbody>\n",
       "    <tr>\n",
       "      <th>0</th>\n",
       "      <td>متحف العربي لفن الحديث يعتبر متحف جديد العهد ي...</td>\n",
       "    </tr>\n",
       "    <tr>\n",
       "      <th>1</th>\n",
       "      <td>يلاجيو مول يعتبر فيلاجيو مول اهم المجمعات التج...</td>\n",
       "    </tr>\n",
       "  </tbody>\n",
       "</table>\n",
       "</div>"
      ],
      "text/plain": [
       "                                             artical\n",
       "0  متحف العربي لفن الحديث يعتبر متحف جديد العهد ي...\n",
       "1  يلاجيو مول يعتبر فيلاجيو مول اهم المجمعات التج..."
      ]
     },
     "execution_count": 38,
     "metadata": {},
     "output_type": "execute_result"
    }
   ],
   "source": [
    "cleand_df.head(2)"
   ]
  },
  {
   "cell_type": "markdown",
   "id": "34807f6c",
   "metadata": {},
   "source": [
    "# Models"
   ]
  },
  {
   "cell_type": "code",
   "execution_count": null,
   "id": "809ce8c8",
   "metadata": {},
   "outputs": [],
   "source": []
  }
 ],
 "metadata": {
  "kernelspec": {
   "display_name": "Python 3",
   "language": "python",
   "name": "python3"
  },
  "language_info": {
   "codemirror_mode": {
    "name": "ipython",
    "version": 3
   },
   "file_extension": ".py",
   "mimetype": "text/x-python",
   "name": "python",
   "nbconvert_exporter": "python",
   "pygments_lexer": "ipython3",
   "version": "3.8.8"
  }
 },
 "nbformat": 4,
 "nbformat_minor": 5
}
